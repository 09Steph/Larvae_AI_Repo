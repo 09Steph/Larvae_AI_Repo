{
  "cells": [
    {
      "cell_type": "code",
      "execution_count": null,
      "metadata": {},
      "outputs": [],
      "source": [
        "# Juypter Labs Notebooked used to train, evaluate a Deeplabcut Pose estimation model. As well as run inference with model, optimise/filter predictions\n",
        "# and finally annotate the predictions on the original video/images\n",
        "# This notebook was used on Goole Colab, but can be run locally with the correct dependencies installed and with devices has cuda/mps support"
      ]
    },
    {
      "cell_type": "code",
      "execution_count": null,
      "metadata": {
        "colab": {
          "base_uri": "https://localhost:8080/"
        },
        "id": "d1rYFy_7QejU",
        "outputId": "18c23aee-42b7-470f-ba1e-77057861688b"
      },
      "outputs": [],
      "source": [
        "# Import section\n",
        "import deeplabcut\n",
        "print(\"Import Complete\")"
      ]
    },
    {
      "cell_type": "code",
      "execution_count": null,
      "metadata": {
        "colab": {
          "base_uri": "https://localhost:8080/"
        },
        "id": "_sLIBYJilHSn",
        "outputId": "12eb002f-21f3-460b-ade9-63f2204cedd2"
      },
      "outputs": [],
      "source": [
        "# Mount Google drive section\n",
        "# Place Zipped project here\n",
        "# User may wish to provide zipped or unzipper project folder\n",
        "from google.colab import drive\n",
        "drive.mount('/content/drive')\n",
        "print(\"Mount Complete\")"
      ]
    },
    {
      "cell_type": "code",
      "execution_count": null,
      "metadata": {
        "colab": {
          "base_uri": "https://localhost:8080/"
        },
        "id": "fLwP-w3OlSME",
        "outputId": "f2d40669-b962-477b-bff5-f8344d7e10a0"
      },
      "outputs": [],
      "source": [
        "# Extract Zippped Project Section\n",
        "# Can omit lines if unzipped project folder is provided\n",
        "# Just define project_name and project_dir\n",
        "import zipfile\n",
        "import os\n",
        "import shutil\n",
        "\n",
        "# Define paths\n",
        "uploaded_zip_path = \"/content/drive/MyDrive/DLC_Data/SimpleDLC_TF-Steph-2025-04-24.zip\"\n",
        "extract_to = \"/content/drive/MyDrive/DLC_Data\"\n",
        "project_name = \"SimpleDLC_TF-Steph-2025-04-24\"\n",
        "project_dir = os.path.join(extract_to, project_name)\n",
        "\n",
        "# Clear previous extraction (if any)\n",
        "if os.path.exists(project_dir):\n",
        "    shutil.rmtree(project_dir)\n",
        "os.makedirs(extract_to, exist_ok=True)\n",
        "\n",
        "# Unzip into clean directory\n",
        "with zipfile.ZipFile(uploaded_zip_path, 'r') as zip_ref:\n",
        "    zip_ref.extractall(extract_to)\n",
        "\n",
        "print(\"Project extracted successfully.\")\n",
        "print(\"Project path:\", project_dir)\n"
      ]
    },
    {
      "cell_type": "code",
      "execution_count": null,
      "metadata": {
        "colab": {
          "base_uri": "https://localhost:8080/"
        },
        "id": "IrgD6BfpleHU",
        "outputId": "1d978230-b730-4066-d912-0082799d449c"
      },
      "outputs": [
        {
          "name": "stdout",
          "output_type": "stream",
          "text": [
            "Config Loaded\n"
          ]
        }
      ],
      "source": [
        "# Load Paths sections\n",
        "project_path = \"/content/drive/MyDrive/DLC_Data/SimpleDLC_TF-Steph-2025-04-24\"\n",
        "config_path = f\"{project_path}/config.yaml\"\n",
        "print(\"Config Loaded\")"
      ]
    },
    {
      "cell_type": "code",
      "execution_count": null,
      "metadata": {
        "colab": {
          "base_uri": "https://localhost:8080/"
        },
        "id": "1wGIYcoM8dq7",
        "outputId": "c117846b-6547-4ccf-8ec7-64d6c2f23083"
      },
      "outputs": [],
      "source": [
        "# Dataset Creation Section\n",
        "deeplabcut.create_training_dataset(config_path)"
      ]
    },
    {
      "cell_type": "code",
      "execution_count": null,
      "metadata": {
        "colab": {
          "base_uri": "https://localhost:8080/"
        },
        "id": "3cceSPbV-eYo",
        "outputId": "cc6804fb-374d-49f9-edf7-0401cfc860ce"
      },
      "outputs": [],
      "source": [
        "# Extra Section to resize images\n",
        "# Can possibly omit but images are trained on the cropped images of the full frame image\n",
        "# Use section as template to account for this for future training if needed\n",
        "import yaml\n",
        "\n",
        "# Path to pose_cfg.yaml file\n",
        "pose_cfg_path = \"/content/drive/MyDrive/DLC_Data/SimpleDLC_TF-Steph-2025-04-24/dlc-models/iteration-0/FinalDLC_TFApr24-trainset95shuffle1/train/pose_cfg.yaml\"\n",
        "\n",
        "# Load current config\n",
        "with open(pose_cfg_path, \"r\") as f:\n",
        "    cfg = yaml.safe_load(f)\n",
        "\n",
        "# Make safe edits\n",
        "cfg['global_scale'] = 1.0\n",
        "cfg['min_input_size'] = 32\n",
        "\n",
        "# Save back the updated config\n",
        "with open(pose_cfg_path, \"w\") as f:\n",
        "    yaml.dump(cfg, f)\n",
        "\n",
        "print(\"pose_cfg.yaml updated with:\")\n",
        "print(\" - global_scale = 1.0\")\n",
        "print(\" - min_input_size = 32\")\n"
      ]
    },
    {
      "cell_type": "code",
      "execution_count": null,
      "metadata": {
        "colab": {
          "base_uri": "https://localhost:8080/"
        },
        "id": "yImSykHSljzd",
        "outputId": "bcf35ff1-7ba1-4d6a-f679-f412d4fd7501"
      },
      "outputs": [],
      "source": [
        "# Training Loop Section\n",
        "try:\n",
        "    deeplabcut.train_network(\n",
        "        config=config_path,\n",
        "        shuffle=1,\n",
        "        displayiters=500,\n",
        "        saveiters=1000,\n",
        "        maxiters=20000,\n",
        "        gputouse=0\n",
        "    )\n",
        "except Exception as e:\n",
        "    print(\"\\nTraining likely completed but caught thread-related exception:\")\n",
        "    print(e)\n",
        "\n",
        "print(\"\\nTraining Finished.\")\n",
        "\n",
        "# Added due to thread error attributed to Google Collab and Python threads double check files to find snapshots to verify completion otherwise omit\n",
        "# if you plan to you different machine to train"
      ]
    },
    {
      "cell_type": "code",
      "execution_count": null,
      "metadata": {
        "colab": {
          "base_uri": "https://localhost:8080/",
          "height": 1000
        },
        "id": "wqFGNrfnllx3",
        "outputId": "d1d33e17-d657-46a1-d6bd-358d46f029c2"
      },
      "outputs": [],
      "source": [
        "# Evaluation Section\n",
        "try:\n",
        "    # Evaluate the trained network\n",
        "    deeplabcut.evaluate_network(\n",
        "        config_path,\n",
        "        plotting=True,\n",
        "        show_errors=True\n",
        "    )\n",
        "    print(\"\\nEvaluation Complete.\")\n",
        "\n",
        "except Exception as e:\n",
        "    print(\"\\nEvaluation finished, but caught a thread-related exception :\")\n",
        "    print(e)\n",
        "\n",
        "model_folder = os.path.join(\n",
        "    os.path.dirname(config_path),\n",
        "    \"dlc-models\",\n",
        "    \"iteration-0\"\n",
        ")\n",
        "\n",
        "if os.path.exists(model_folder):\n",
        "    print(f\"\\nFound model folder: {model_folder}\")\n",
        "    print(\"Contents (snapshots/checkpoints):\")\n",
        "    for root, dirs, files in os.walk(model_folder):\n",
        "        for file in files:\n",
        "            if file.startswith(\"snapshot\") and (file.endswith(\".index\") or file.endswith(\".meta\")):\n",
        "                print(f\" - {file}\")\n",
        "else:\n",
        "    print(\"\\nWARNING: Model folder not found. Please double-check your training.\")\n",
        "\n",
        "\n",
        "# Added due to thread error attributed to Google Collab and Python threads double check files to find snapshots to verify completion otherwise omit\n",
        "# if you plan to you different machine to train"
      ]
    },
    {
      "cell_type": "code",
      "execution_count": null,
      "metadata": {
        "colab": {
          "base_uri": "https://localhost:8080/"
        },
        "id": "olY6m8E4B8mg",
        "outputId": "6673e6e5-be23-45d9-b54f-ab5ff27c1853"
      },
      "outputs": [],
      "source": [
        "# Load videos to run inference\n",
        "video_folder = \"/content/drive/MyDrive/DLC_Data/videos\"\n",
        "print(\"Videos Loaded\")"
      ]
    },
    {
      "cell_type": "code",
      "execution_count": null,
      "metadata": {
        "colab": {
          "base_uri": "https://localhost:8080/"
        },
        "id": "LePo2swXCA0O",
        "outputId": "2ebc84e7-0345-4b14-ee8b-ab95f16e8cc6"
      },
      "outputs": [],
      "source": [
        "# Inference section\n",
        "\n",
        "video_paths = [os.path.join(video_folder, f) for f in os.listdir(video_folder) if f.endswith(\".avi\")]\n",
        "\n",
        "# Run inference\n",
        "deeplabcut.analyze_videos(\n",
        "    config_path,\n",
        "    video_paths,\n",
        "    videotype='.avi',\n",
        "    save_as_csv=True,\n",
        "    # gputouse=0 # 0 = 1 GPU, 1 = 2 GPU, \"Omit\" or None = CPU\n",
        ")\n",
        "print(\"Inference Complete\")"
      ]
    },
    {
      "cell_type": "code",
      "execution_count": null,
      "metadata": {
        "colab": {
          "base_uri": "https://localhost:8080/"
        },
        "id": "VqfX-8edGiPJ",
        "outputId": "b8b03e10-f330-472f-d349-060a84edbb05"
      },
      "outputs": [],
      "source": [
        "# Remove weak correlation and optimise inference data beforehand\n",
        "deeplabcut.extract_outlier_frames(\n",
        "    config_path,\n",
        "    video_paths,\n",
        "    automatic=True,\n",
        "    outlieralgorithm=\"jump\",\n",
        "    alpha=0.05,\n",
        "    p_bound=0.01\n",
        ")"
      ]
    },
    {
      "cell_type": "code",
      "execution_count": null,
      "metadata": {
        "colab": {
          "base_uri": "https://localhost:8080/"
        },
        "id": "7lBnLOaeCHC7",
        "outputId": "b3e101fc-51dc-4b4a-93d9-00bf428301d6"
      },
      "outputs": [],
      "source": [
        "# Annotate Videos based on inferenced/predicated labels from trained model\n",
        "deeplabcut.create_labeled_video(\n",
        "    config_path,\n",
        "    video_paths,\n",
        "    draw_skeleton=True,\n",
        "    save_frames=True,\n",
        "    videotype='.avi'\n",
        ")\n",
        "\n",
        "print(\"Labelled Videos Complete\")"
      ]
    }
  ],
  "metadata": {
    "colab": {
      "provenance": []
    },
    "kernelspec": {
      "display_name": "Python 3",
      "name": "python3"
    },
    "language_info": {
      "name": "python"
    }
  },
  "nbformat": 4,
  "nbformat_minor": 0
}

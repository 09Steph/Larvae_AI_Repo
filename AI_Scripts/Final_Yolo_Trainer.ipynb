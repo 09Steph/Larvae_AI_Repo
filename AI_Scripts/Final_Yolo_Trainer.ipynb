{
 "cells": [
  {
   "cell_type": "code",
   "execution_count": null,
   "metadata": {},
   "outputs": [],
   "source": [
    "# Juypter Labs Notebooked used to train yolo object detection model as well as run inference with model\n",
    "# This notebook was used on kaggle, but can be run locally with the correct dependencies installed and with devices has cuda/mps support"
   ]
  },
  {
   "cell_type": "code",
   "execution_count": null,
   "metadata": {
    "execution": {
     "iopub.execute_input": "2025-04-29T00:40:08.219068Z",
     "iopub.status.busy": "2025-04-29T00:40:08.218318Z",
     "iopub.status.idle": "2025-04-29T00:40:11.299997Z",
     "shell.execute_reply": "2025-04-29T00:40:11.299258Z",
     "shell.execute_reply.started": "2025-04-29T00:40:08.219041Z"
    },
    "trusted": true
   },
   "outputs": [],
   "source": [
    "# Installation of dependencies section\n",
    "# Install Ultralytics\n",
    "!pip install -q ultralytics --no-deps\n",
    "print(\"Ultralytics loaded\")"
   ]
  },
  {
   "cell_type": "code",
   "execution_count": null,
   "metadata": {
    "execution": {
     "iopub.execute_input": "2025-04-29T00:40:13.039644Z",
     "iopub.status.busy": "2025-04-29T00:40:13.039152Z",
     "iopub.status.idle": "2025-04-29T00:40:19.128080Z",
     "shell.execute_reply": "2025-04-29T00:40:19.127285Z",
     "shell.execute_reply.started": "2025-04-29T00:40:13.039617Z"
    },
    "trusted": true
   },
   "outputs": [],
   "source": [
    "# Import setup and model size selection section\n",
    "from ultralytics import YOLO\n",
    "\n",
    "model = YOLO('/kaggle/input/yolo-x-20-16-20/last_x_201620.pt')\n",
    "yaml_path=\"/kaggle/input/yolo-data-yaml-general/data.yaml\"\n",
    "print(\"YOLO model loaded\")\n",
    "print(\"YAML File loaded\")"
   ]
  },
  {
   "cell_type": "code",
   "execution_count": null,
   "metadata": {
    "execution": {
     "iopub.execute_input": "2025-04-29T00:40:20.876159Z",
     "iopub.status.busy": "2025-04-29T00:40:20.875304Z",
     "iopub.status.idle": "2025-04-29T04:18:06.637095Z",
     "shell.execute_reply": "2025-04-29T04:18:06.636145Z",
     "shell.execute_reply.started": "2025-04-29T00:40:20.876133Z"
    },
    "trusted": true
   },
   "outputs": [],
   "source": [
    "# Training loop section\n",
    "model.train(\n",
    "    data=yaml_path,\n",
    "    epochs=10,                     \n",
    "    imgsz=1280,                      \n",
    "    batch=4,                  \n",
    "    device=0,                      \n",
    "    name='name_of_model',   \n",
    "    project='runs/train',  \n",
    "    workers=8,\n",
    "    verbose=True,\n",
    "    patience=10,           \n",
    "    optimizer='Adam',    #Adam,SGD\n",
    "    lr0=0.001,\n",
    "    amp=True,\n",
    "    pretrained=True\n",
    ")\n",
    "print(\"Training Complete\")"
   ]
  },
  {
   "cell_type": "code",
   "execution_count": null,
   "metadata": {
    "execution": {
     "iopub.status.busy": "2025-04-26T23:25:24.710416Z",
     "iopub.status.idle": "2025-04-26T23:25:24.710773Z",
     "shell.execute_reply": "2025-04-26T23:25:24.710589Z",
     "shell.execute_reply.started": "2025-04-26T23:25:24.710574Z"
    },
    "trusted": true
   },
   "outputs": [],
   "source": [
    "# Infererence section\n",
    "model = YOLO('./dir/to/best.pt')  # path to your best.pt\n",
    "\n",
    "# Run inference (prediction)\n",
    "results = model.predict(\n",
    "    source='./path/to/images',\n",
    "    imgsz=1280,                                \n",
    "    conf=0.60,                                 \n",
    "    save=True                                  \n",
    ")\n",
    "\n",
    "print(\"Inference Complete\")"
   ]
  },
  {
   "cell_type": "code",
   "execution_count": null,
   "metadata": {
    "execution": {
     "iopub.execute_input": "2025-04-28T19:49:53.284135Z",
     "iopub.status.busy": "2025-04-28T19:49:53.283833Z",
     "iopub.status.idle": "2025-04-28T19:50:10.682133Z",
     "shell.execute_reply": "2025-04-28T19:50:10.681512Z",
     "shell.execute_reply.started": "2025-04-28T19:49:53.284113Z"
    },
    "trusted": true
   },
   "outputs": [
    {
     "name": "stdout",
     "output_type": "stream",
     "text": [
      "Folder '/kaggle/working/runs/train/yolov8x_27_04_25_20ep' zipped successfully and saved as '/kaggle/working/yolov8x_(20_16_20ep).zip'.\n"
     ]
    }
   ],
   "source": [
    "# Zip the output folder section\n",
    "import os\n",
    "import zipfile\n",
    "\n",
    "def zip_folder(input_folder_path, output_zip_name=\"output.zip\"):\n",
    "    output_zip_path = os.path.join('/kaggle/working', output_zip_name)\n",
    "    \n",
    "    with zipfile.ZipFile(output_zip_path, 'w', zipfile.ZIP_DEFLATED) as zipf:\n",
    "        for root, dirs, files in os.walk(input_folder_path):\n",
    "            for file in files:\n",
    "                file_path = os.path.join(root, file)\n",
    "\n",
    "                arcname = os.path.relpath(file_path, start=input_folder_path)\n",
    "                zipf.write(file_path, arcname)\n",
    "    \n",
    "    print(f\"Folder '{input_folder_path}' zipped successfully and saved as '{output_zip_path}'.\")\n",
    "    \n",
    "input_folder = './dir/to/output/folder'\n",
    "zip_folder(input_folder, output_zip_name=\"name_of_zip.zip\")\n"
   ]
  }
 ],
 "metadata": {
  "kaggle": {
   "accelerator": "gpu",
   "dataSources": [
    {
     "datasetId": 7127615,
     "sourceId": 11383172,
     "sourceType": "datasetVersion"
    },
    {
     "datasetId": 7261468,
     "sourceId": 11581087,
     "sourceType": "datasetVersion"
    },
    {
     "datasetId": 7269209,
     "sourceId": 11592261,
     "sourceType": "datasetVersion"
    },
    {
     "datasetId": 7274870,
     "sourceId": 11599939,
     "sourceType": "datasetVersion"
    },
    {
     "datasetId": 7278514,
     "sourceId": 11604589,
     "sourceType": "datasetVersion"
    }
   ],
   "dockerImageVersionId": 31012,
   "isGpuEnabled": true,
   "isInternetEnabled": true,
   "language": "python",
   "sourceType": "notebook"
  },
  "kernelspec": {
   "display_name": "Python 3",
   "language": "python",
   "name": "python3"
  },
  "language_info": {
   "codemirror_mode": {
    "name": "ipython",
    "version": 3
   },
   "file_extension": ".py",
   "mimetype": "text/x-python",
   "name": "python",
   "nbconvert_exporter": "python",
   "pygments_lexer": "ipython3",
   "version": "3.11.11"
  }
 },
 "nbformat": 4,
 "nbformat_minor": 4
}
